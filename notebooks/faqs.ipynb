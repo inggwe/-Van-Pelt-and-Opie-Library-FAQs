{
 "cells": [
  {
   "cell_type": "markdown",
   "metadata": {},
   "source": [
    "### Install the packages"
   ]
  },
  {
   "cell_type": "code",
   "execution_count": 3,
   "metadata": {},
   "outputs": [],
   "source": [
    "from bs4 import BeautifulSoup\n",
    "import requests\n",
    "import pandas as pd"
   ]
  },
  {
   "cell_type": "code",
   "execution_count": 4,
   "metadata": {
    "scrolled": true
   },
   "outputs": [],
   "source": [
    "# store the url\n",
    "url = \"https://mtu.libanswers.com/\"\n",
    "resp = requests.get(url)\n",
    "content = resp.text\n",
    "soup = BeautifulSoup(content, 'html.parser')\n"
   ]
  },
  {
   "cell_type": "code",
   "execution_count": 32,
   "metadata": {},
   "outputs": [
    {
     "name": "stdout",
     "output_type": "stream",
     "text": [
      "Views: 1152\n",
      "Views: 239\n",
      "Views: 247\n",
      "Views: 110\n",
      "Views: 149\n",
      "Views: 349\n",
      "Views: 76\n",
      "Views: 257\n",
      "Views: 337\n",
      "Views: 84\n",
      "Views: 79\n",
      "Views: 67\n",
      "Views: 132\n",
      "Views: 30\n",
      "Views: 1152\n",
      "Views: 257\n",
      "Views: 79\n",
      "Views: 110\n",
      "Views: 149\n",
      "Views: 349\n",
      "Views: 84\n",
      "Views: 76\n",
      "Views: 337\n",
      "Views: 239\n",
      "Views: 153\n",
      "Views: 54\n",
      "Views: 54\n",
      "Views: 137\n",
      "Views: 247\n",
      "Views: 25\n",
      "Views: 49\n",
      "Views: 53\n",
      "Views: 30\n",
      "Views: 74\n",
      "Views: 52\n",
      "Views: 67\n",
      "Views: 64\n",
      "Views: 37\n",
      "Views: 67\n",
      "Views: 91\n",
      "Views: 132\n",
      "Views: 55\n",
      "Views: 41\n",
      "Views: 57\n",
      "Views: 52\n",
      "Views: 97\n",
      "Views: 53\n",
      "Views: 45\n",
      "Views: 56\n",
      "Views: 49\n",
      "Views: 44\n",
      "Views: 69\n",
      "Views: 35\n",
      "Views: 259\n",
      "Views: 39\n",
      "Views: 59\n",
      "Views: 40\n",
      "Views: 37\n",
      "Views: 55\n",
      "Views: 42\n",
      "Views: 19\n",
      "Views: 32\n",
      "Views: 30\n",
      "Views: 33\n",
      "Views: 102\n",
      "Views: 234\n",
      "Views: 52\n",
      "Views: 63\n",
      "Views: 48\n",
      "Views: 51\n"
     ]
    }
   ],
   "source": [
    "# find all faqs\n",
    "faqs = soup.find_all('div', class_='s-la-faq-listing-q')\n",
    "# get the text\n",
    "# store faqs and links\n",
    "faqs_names = []\n",
    "link_answers = []\n",
    "topic_list=[]\n",
    "for i in faqs:\n",
    "    faq = i.get_text()\n",
    "    faqs_names.append(faq)\n",
    "    # link to the faq answer\n",
    "    link = i.find('a')['href']\n",
    "    link_answers.append(link)\n",
    "# get the topics\n",
    "topic_elements = soup.find_all('ul', class_='list-inline metavalue')\n",
    "for i in topic_elements:\n",
    "    # print(i.prettify())\n",
    "     # Find all list items within the topic list\n",
    "    topics = i.find_all('a')\n",
    "    # Extract the text of each topic\n",
    "    topic_names = [topic.text.strip() for topic in topics]\n",
    "    topic_list.append(topic_names)\n",
    "    \n",
    "    # print(\"Topics:\", topic_names)\n",
    "\n",
    "views_element = soup.find_all('span', class_='s-la-faq-listing-views')\n",
    "for i in views_element:\n",
    "    print(i.get_text())\n",
    "    \n",
    "\n",
    "# print(len(faqs_names))\n",
    "# print(len(topic_list))\n",
    "\n",
    "\n",
    "\n",
    "\n"
   ]
  },
  {
   "cell_type": "code",
   "execution_count": null,
   "metadata": {},
   "outputs": [],
   "source": [
    "\n"
   ]
  },
  {
   "cell_type": "code",
   "execution_count": null,
   "metadata": {},
   "outputs": [],
   "source": []
  }
 ],
 "metadata": {
  "kernelspec": {
   "display_name": "Python 3 (ipykernel)",
   "language": "python",
   "name": "python3"
  },
  "language_info": {
   "codemirror_mode": {
    "name": "ipython",
    "version": 3
   },
   "file_extension": ".py",
   "mimetype": "text/x-python",
   "name": "python",
   "nbconvert_exporter": "python",
   "pygments_lexer": "ipython3",
   "version": "3.9.19"
  }
 },
 "nbformat": 4,
 "nbformat_minor": 4
}
