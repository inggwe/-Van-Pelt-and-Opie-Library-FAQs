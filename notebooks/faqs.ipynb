{
 "cells": [
  {
   "cell_type": "markdown",
   "metadata": {},
   "source": [
    "### Install the packages"
   ]
  },
  {
   "cell_type": "code",
   "execution_count": 2,
   "metadata": {},
   "outputs": [],
   "source": [
    "from bs4 import BeautifulSoup\n",
    "import requests\n",
    "import pandas as pd\n",
    "import numpy as np\n"
   ]
  },
  {
   "cell_type": "code",
   "execution_count": 3,
   "metadata": {
    "scrolled": true
   },
   "outputs": [],
   "source": [
    "# store the url\n",
    "url = \"https://mtu.libanswers.com/\"\n",
    "resp = requests.get(url)\n",
    "content = resp.text\n",
    "soup = BeautifulSoup(content, 'html.parser')"
   ]
  },
  {
   "cell_type": "markdown",
   "metadata": {},
   "source": [
    "### Extract content"
   ]
  },
  {
   "cell_type": "code",
   "execution_count": 4,
   "metadata": {},
   "outputs": [],
   "source": [
    "# find all faqs\n",
    "\n",
    "# store faqs data\n",
    "all_faqs = []\n",
    "faq_links = []\n",
    "faq_topics = []\n",
    "faq_last_update = []\n",
    "faq_views = []\n",
    "\n",
    "\n",
    "# selects from \"all\" tab\n",
    "all_tab_container = soup.find('div', id='s-la-box-65168-container-tab1')\n",
    "\n",
    "# Find all faqs in the 'all' tab\n",
    "faq_items = all_tab_container.find_all('li', class_='s-la-faq-listing')\n",
    "\n",
    "# Iterate through each FAQ item and print its contents\n",
    "for faq_item in faq_items:\n",
    "    # Extract the FAQ question and its associated link\n",
    "    faq_question = faq_item.find('div', class_='s-la-faq-listing-q').a.text.strip()\n",
    "    faq_link = faq_item.find('div', class_='s-la-faq-listing-q').a['href']\n",
    "    # extract number of views\n",
    "    views_label_span = faq_item.find('span', class_='metalabel', string='Views:')\n",
    "    views_number = views_label_span.find_next('span', class_='metavalue').text.strip()\n",
    "    # Extract the topics for the current FAQ\n",
    "    topics_list = faq_item.find('ul', class_='list-inline metavalue')\n",
    "    if topics_list:\n",
    "        topics = [topic.text.strip() for topic in topics_list.find_all('a')]\n",
    "    else:\n",
    "        topics = \"NaN\"\n",
    "    # last updated\n",
    "    # Extract the last updated information for the current FAQ\n",
    "    last_updated_span = faq_item.find('span', class_='metalabel', string='Last Updated:')\n",
    "    last_updated_info = last_updated_span.find_next('span', class_='metavalue').text.strip()\n",
    "    # store the data \n",
    "    all_faqs.append(faq_question)\n",
    "    faq_links.append(faq_link)\n",
    "    faq_views.append(views_number)\n",
    "    faq_topics.append(topics)\n",
    "    faq_last_update.append(last_updated_info)\n",
    "\n",
    "# extract featured faqs\n",
    "featured_tab_container = soup.find('div', id='s-la-box-65168-container-tab0')\n",
    "# find all featured faqs\n",
    "faq_items = featured_tab_container.find_all('li', class_='s-la-faq-listing')\n",
    "featured_faq = []\n",
    "\n",
    "# get the faq text\n",
    "for faq_item in faq_items:\n",
    "    # Extract the FAQ question and its associated link\n",
    "    faq_question = faq_item.find('div', class_='s-la-faq-listing-q').a.text.strip()\n",
    "    featured_faq.append(faq_question)\n",
    "    \n",
    "# create new list that determines if an faq is featured or not.\n",
    "featured = []\n",
    "for i in all_faqs:\n",
    "    if i in featured_faq:\n",
    "        featured.append('Yes')\n",
    "    else:\n",
    "        featured.append('No')\n",
    "        \n",
    "# print (len(featured),len(all_faqs) )\n",
    "\n",
    "\n"
   ]
  },
  {
   "cell_type": "markdown",
   "metadata": {},
   "source": [
    "### Create DataFrame\n"
   ]
  },
  {
   "cell_type": "code",
   "execution_count": 14,
   "metadata": {},
   "outputs": [],
   "source": [
    "# df = pd.DataFrame(np.column_stack([all_faqs, faq_links, faq_views,faq_topics,faq_last_update, featured]),\n",
    "#                  columns=['Faqs', 'Faq Links', 'Views', 'Topics', 'Last Update', 'Featured'])\n",
    "df = pd.DataFrame(\n",
    "    {'Faqs': all_faqs,\n",
    "     'Faq_Links': faq_links,\n",
    "     'Views': faq_views,\n",
    "     'Topics': faq_topics,\n",
    "     'Last_Update': faq_last_update,\n",
    "     'Featured': featured\n",
    "    })\n",
    "# df.head(3)\n",
    "# export df\n",
    "df.to_csv('faq.csv', sep='\\t', encoding='utf-8', index= False)"
   ]
  },
  {
   "cell_type": "code",
   "execution_count": null,
   "metadata": {},
   "outputs": [],
   "source": []
  }
 ],
 "metadata": {
  "kernelspec": {
   "display_name": "libfaqs",
   "language": "python",
   "name": "libfaqs"
  },
  "language_info": {
   "codemirror_mode": {
    "name": "ipython",
    "version": 3
   },
   "file_extension": ".py",
   "mimetype": "text/x-python",
   "name": "python",
   "nbconvert_exporter": "python",
   "pygments_lexer": "ipython3",
   "version": "3.11.9"
  }
 },
 "nbformat": 4,
 "nbformat_minor": 4
}
